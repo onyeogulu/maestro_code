{
 "cells": [
  {
   "cell_type": "code",
   "execution_count": 8,
   "metadata": {},
   "outputs": [
    {
     "name": "stdout",
     "output_type": "stream",
     "text": [
      "[Errno 2] No such file or directory: 'yolov5'\n",
      "/mnt/mars-beta/tochukwu/maestro/maestro_code/yolov5\n",
      "CONTRIBUTING.md  export.py   \u001b[0m\u001b[01;34mmodels\u001b[0m/            setup.cfg       \u001b[01;34mutils\u001b[0m/\n",
      "\u001b[01;34mdata\u001b[0m/            hubconf.py  README.md          train.py        val.py\n",
      "detect.py        LICENSE     \u001b[01;32mrequirements.txt\u001b[0m*  tutorial.ipynb\n"
     ]
    }
   ],
   "source": [
    "%cd yolov5\n"
   ]
  },
  {
   "cell_type": "code",
   "execution_count": 9,
   "metadata": {},
   "outputs": [
    {
     "name": "stdout",
     "output_type": "stream",
     "text": [
      "CONTRIBUTING.md  export.py   \u001b[0m\u001b[01;34mmodels\u001b[0m/            setup.cfg       \u001b[01;34mutils\u001b[0m/\n",
      "\u001b[01;34mdata\u001b[0m/            hubconf.py  README.md          train.py        val.py\n",
      "detect.py        LICENSE     \u001b[01;32mrequirements.txt\u001b[0m*  tutorial.ipynb\n"
     ]
    }
   ],
   "source": [
    "%ls"
   ]
  },
  {
   "cell_type": "code",
   "execution_count": 10,
   "metadata": {},
   "outputs": [
    {
     "name": "stdout",
     "output_type": "stream",
     "text": [
      "# YOLOv5 requirements\n",
      "# Usage: pip install -r requirements.txt\n",
      "\n",
      "# Base ----------------------------------------\n",
      "matplotlib>=3.2.2\n",
      "numpy>=1.18.5\n",
      "opencv-python>=4.1.1\n",
      "Pillow>=7.1.2\n",
      "PyYAML>=5.3.1\n",
      "requests>=2.23.0\n",
      "scipy>=1.4.1  # Google Colab version\n",
      "torch>=1.7.0\n",
      "torchvision>=0.8.1\n",
      "tqdm>=4.41.0\n",
      "protobuf<=3.20.1  # https://github.com/ultralytics/yolov5/issues/8012\n",
      "\n",
      "# Logging -------------------------------------\n",
      "tensorboard>=2.4.1\n",
      "# wandb\n",
      "\n",
      "# Plotting ------------------------------------\n",
      "pandas>=1.1.4\n",
      "seaborn>=0.11.0\n",
      "\n",
      "# Export --------------------------------------\n",
      "# coremltools>=4.1  # CoreML export\n",
      "# onnx>=1.9.0  # ONNX export\n",
      "# onnx-simplifier>=0.3.6  # ONNX simplifier\n",
      "# scikit-learn==0.19.2  # CoreML quantization\n",
      "# tensorflow>=2.4.1  # TFLite export\n",
      "# tensorflowjs>=3.9.0  # TF.js export\n",
      "# openvino-dev  # OpenVINO export\n",
      "\n",
      "# Extras --------------------------------------\n",
      "ipython  # interactive notebook\n",
      "psutil  # system utilization\n",
      "thop  # FLOPs computation\n",
      "# albumentations>=1.0.3\n",
      "# pycocotools>=2.0  # COCO mAP\n",
      "# roboflow\n"
     ]
    }
   ],
   "source": [
    "%cat requirements.txt"
   ]
  },
  {
   "cell_type": "code",
   "execution_count": 3,
   "metadata": {},
   "outputs": [
    {
     "name": "stdout",
     "output_type": "stream",
     "text": [
      "/usr/lib/python3/dist-packages/secretstorage/dhcrypto.py:15: CryptographyDeprecationWarning: int_from_bytes is deprecated, use int.from_bytes instead\n",
      "  from cryptography.utils import int_from_bytes\n",
      "/usr/lib/python3/dist-packages/secretstorage/util.py:19: CryptographyDeprecationWarning: int_from_bytes is deprecated, use int.from_bytes instead\n",
      "  from cryptography.utils import int_from_bytes\n",
      "Defaulting to user installation because normal site-packages is not writeable\n",
      "Requirement already satisfied: pip in /usr/local/lib/python3.6/dist-packages (21.3.1)\n",
      "Note: you may need to restart the kernel to use updated packages.\n"
     ]
    }
   ],
   "source": [
    "pip install --upgrade pip"
   ]
  },
  {
   "cell_type": "code",
   "execution_count": 11,
   "metadata": {},
   "outputs": [
    {
     "name": "stdout",
     "output_type": "stream",
     "text": [
      "/usr/lib/python3/dist-packages/secretstorage/dhcrypto.py:15: CryptographyDeprecationWarning: int_from_bytes is deprecated, use int.from_bytes instead\n",
      "  from cryptography.utils import int_from_bytes\n",
      "/usr/lib/python3/dist-packages/secretstorage/util.py:19: CryptographyDeprecationWarning: int_from_bytes is deprecated, use int.from_bytes instead\n",
      "  from cryptography.utils import int_from_bytes\n",
      "Defaulting to user installation because normal site-packages is not writeable\n",
      "Requirement already satisfied: matplotlib>=3.2.2 in /home/tochukwu/.local/lib/python3.6/site-packages (from -r requirements.txt (line 5)) (3.3.4)\n",
      "Requirement already satisfied: numpy>=1.18.5 in /home/tochukwu/.local/lib/python3.6/site-packages (from -r requirements.txt (line 6)) (1.19.5)\n",
      "Requirement already satisfied: opencv-python>=4.1.1 in /home/tochukwu/.local/lib/python3.6/site-packages (from -r requirements.txt (line 7)) (4.6.0.66)\n",
      "Requirement already satisfied: Pillow>=7.1.2 in /home/tochukwu/.local/lib/python3.6/site-packages (from -r requirements.txt (line 8)) (8.4.0)\n",
      "Requirement already satisfied: PyYAML>=5.3.1 in /home/tochukwu/.local/lib/python3.6/site-packages (from -r requirements.txt (line 9)) (6.0)\n",
      "Requirement already satisfied: requests>=2.23.0 in /usr/local/lib/python3.6/dist-packages (from -r requirements.txt (line 10)) (2.26.0)\n",
      "Requirement already satisfied: scipy>=1.4.1 in /home/tochukwu/.local/lib/python3.6/site-packages (from -r requirements.txt (line 11)) (1.5.4)\n",
      "Requirement already satisfied: torch>=1.7.0 in /home/tochukwu/.local/lib/python3.6/site-packages (from -r requirements.txt (line 12)) (1.10.1)\n",
      "Requirement already satisfied: torchvision>=0.8.1 in /home/tochukwu/.local/lib/python3.6/site-packages (from -r requirements.txt (line 13)) (0.11.2)\n",
      "Requirement already satisfied: tqdm>=4.41.0 in /home/tochukwu/.local/lib/python3.6/site-packages (from -r requirements.txt (line 14)) (4.64.0)\n",
      "Requirement already satisfied: protobuf<=3.20.1 in /home/tochukwu/.local/lib/python3.6/site-packages (from -r requirements.txt (line 15)) (3.19.4)\n",
      "Requirement already satisfied: tensorboard>=2.4.1 in /home/tochukwu/.local/lib/python3.6/site-packages (from -r requirements.txt (line 18)) (2.9.1)\n",
      "Requirement already satisfied: pandas>=1.1.4 in /home/tochukwu/.local/lib/python3.6/site-packages (from -r requirements.txt (line 22)) (1.1.5)\n",
      "Requirement already satisfied: seaborn>=0.11.0 in /home/tochukwu/.local/lib/python3.6/site-packages (from -r requirements.txt (line 23)) (0.11.2)\n",
      "Requirement already satisfied: ipython in /home/tochukwu/.local/lib/python3.6/site-packages (from -r requirements.txt (line 35)) (7.16.3)\n",
      "Requirement already satisfied: psutil in /home/tochukwu/.local/lib/python3.6/site-packages (from -r requirements.txt (line 36)) (5.9.1)\n",
      "Requirement already satisfied: thop in /home/tochukwu/.local/lib/python3.6/site-packages (from -r requirements.txt (line 37)) (0.0.31.post2005241907)\n",
      "Requirement already satisfied: pyparsing!=2.0.4,!=2.1.2,!=2.1.6,>=2.0.3 in /usr/lib/python3/dist-packages (from matplotlib>=3.2.2->-r requirements.txt (line 5)) (2.2.0)\n",
      "Requirement already satisfied: python-dateutil>=2.1 in /home/tochukwu/.local/lib/python3.6/site-packages (from matplotlib>=3.2.2->-r requirements.txt (line 5)) (2.8.2)\n",
      "Requirement already satisfied: cycler>=0.10 in /home/tochukwu/.local/lib/python3.6/site-packages (from matplotlib>=3.2.2->-r requirements.txt (line 5)) (0.11.0)\n",
      "Requirement already satisfied: kiwisolver>=1.0.1 in /home/tochukwu/.local/lib/python3.6/site-packages (from matplotlib>=3.2.2->-r requirements.txt (line 5)) (1.3.1)\n",
      "Requirement already satisfied: idna<4,>=2.5 in /usr/lib/python3/dist-packages (from requests>=2.23.0->-r requirements.txt (line 10)) (2.6)\n",
      "Requirement already satisfied: charset-normalizer~=2.0.0 in /usr/local/lib/python3.6/dist-packages (from requests>=2.23.0->-r requirements.txt (line 10)) (2.0.9)\n",
      "Requirement already satisfied: urllib3<1.27,>=1.21.1 in /usr/lib/python3/dist-packages (from requests>=2.23.0->-r requirements.txt (line 10)) (1.22)\n",
      "Requirement already satisfied: certifi>=2017.4.17 in /usr/lib/python3/dist-packages (from requests>=2.23.0->-r requirements.txt (line 10)) (2018.1.18)\n",
      "Requirement already satisfied: typing-extensions in /usr/local/lib/python3.6/dist-packages (from torch>=1.7.0->-r requirements.txt (line 12)) (4.0.1)\n",
      "Requirement already satisfied: dataclasses in /home/tochukwu/.local/lib/python3.6/site-packages (from torch>=1.7.0->-r requirements.txt (line 12)) (0.8)\n",
      "Requirement already satisfied: importlib-resources in /home/tochukwu/.local/lib/python3.6/site-packages (from tqdm>=4.41.0->-r requirements.txt (line 14)) (5.4.0)\n",
      "Requirement already satisfied: tensorboard-data-server<0.7.0,>=0.6.0 in /home/tochukwu/.local/lib/python3.6/site-packages (from tensorboard>=2.4.1->-r requirements.txt (line 18)) (0.6.1)\n",
      "Requirement already satisfied: tensorboard-plugin-wit>=1.6.0 in /home/tochukwu/.local/lib/python3.6/site-packages (from tensorboard>=2.4.1->-r requirements.txt (line 18)) (1.8.1)\n",
      "Requirement already satisfied: markdown>=2.6.8 in /home/tochukwu/.local/lib/python3.6/site-packages (from tensorboard>=2.4.1->-r requirements.txt (line 18)) (3.3.7)\n",
      "Requirement already satisfied: absl-py>=0.4 in /home/tochukwu/.local/lib/python3.6/site-packages (from tensorboard>=2.4.1->-r requirements.txt (line 18)) (1.1.0)\n",
      "Requirement already satisfied: google-auth<3,>=1.6.3 in /home/tochukwu/.local/lib/python3.6/site-packages (from tensorboard>=2.4.1->-r requirements.txt (line 18)) (2.7.0)\n",
      "Requirement already satisfied: setuptools>=41.0.0 in /usr/local/lib/python3.6/dist-packages (from tensorboard>=2.4.1->-r requirements.txt (line 18)) (59.5.0)\n",
      "Requirement already satisfied: grpcio>=1.24.3 in /home/tochukwu/.local/lib/python3.6/site-packages (from tensorboard>=2.4.1->-r requirements.txt (line 18)) (1.46.3)\n",
      "Requirement already satisfied: google-auth-oauthlib<0.5,>=0.4.1 in /home/tochukwu/.local/lib/python3.6/site-packages (from tensorboard>=2.4.1->-r requirements.txt (line 18)) (0.4.6)\n",
      "Requirement already satisfied: wheel>=0.26 in /usr/lib/python3/dist-packages (from tensorboard>=2.4.1->-r requirements.txt (line 18)) (0.30.0)\n",
      "Requirement already satisfied: werkzeug>=1.0.1 in /home/tochukwu/.local/lib/python3.6/site-packages (from tensorboard>=2.4.1->-r requirements.txt (line 18)) (2.0.3)\n",
      "Requirement already satisfied: pytz>=2017.2 in /usr/lib/python3/dist-packages (from pandas>=1.1.4->-r requirements.txt (line 22)) (2018.3)\n",
      "Requirement already satisfied: backcall in /home/tochukwu/.local/lib/python3.6/site-packages (from ipython->-r requirements.txt (line 35)) (0.2.0)\n",
      "Requirement already satisfied: jedi<=0.17.2,>=0.10 in /home/tochukwu/.local/lib/python3.6/site-packages (from ipython->-r requirements.txt (line 35)) (0.17.2)\n",
      "Requirement already satisfied: pygments in /home/tochukwu/.local/lib/python3.6/site-packages (from ipython->-r requirements.txt (line 35)) (2.12.0)\n",
      "Requirement already satisfied: traitlets>=4.2 in /home/tochukwu/.local/lib/python3.6/site-packages (from ipython->-r requirements.txt (line 35)) (4.3.3)\n",
      "Requirement already satisfied: pickleshare in /home/tochukwu/.local/lib/python3.6/site-packages (from ipython->-r requirements.txt (line 35)) (0.7.5)\n",
      "Requirement already satisfied: pexpect in /usr/lib/python3/dist-packages (from ipython->-r requirements.txt (line 35)) (4.2.1)\n",
      "Requirement already satisfied: prompt-toolkit!=3.0.0,!=3.0.1,<3.1.0,>=2.0.0 in /home/tochukwu/.local/lib/python3.6/site-packages (from ipython->-r requirements.txt (line 35)) (3.0.29)\n",
      "Requirement already satisfied: decorator in /home/tochukwu/.local/lib/python3.6/site-packages (from ipython->-r requirements.txt (line 35)) (5.1.1)\n",
      "Requirement already satisfied: pyasn1-modules>=0.2.1 in /home/tochukwu/.local/lib/python3.6/site-packages (from google-auth<3,>=1.6.3->tensorboard>=2.4.1->-r requirements.txt (line 18)) (0.2.8)\n",
      "Requirement already satisfied: rsa<5,>=3.1.4 in /home/tochukwu/.local/lib/python3.6/site-packages (from google-auth<3,>=1.6.3->tensorboard>=2.4.1->-r requirements.txt (line 18)) (4.8)\n",
      "Requirement already satisfied: cachetools<6.0,>=2.0.0 in /home/tochukwu/.local/lib/python3.6/site-packages (from google-auth<3,>=1.6.3->tensorboard>=2.4.1->-r requirements.txt (line 18)) (4.2.4)\n",
      "Requirement already satisfied: six>=1.9.0 in /usr/lib/python3/dist-packages (from google-auth<3,>=1.6.3->tensorboard>=2.4.1->-r requirements.txt (line 18)) (1.11.0)\n",
      "Requirement already satisfied: requests-oauthlib>=0.7.0 in /home/tochukwu/.local/lib/python3.6/site-packages (from google-auth-oauthlib<0.5,>=0.4.1->tensorboard>=2.4.1->-r requirements.txt (line 18)) (1.3.1)\n",
      "Requirement already satisfied: parso<0.8.0,>=0.7.0 in /home/tochukwu/.local/lib/python3.6/site-packages (from jedi<=0.17.2,>=0.10->ipython->-r requirements.txt (line 35)) (0.7.1)\n",
      "Requirement already satisfied: importlib-metadata>=4.4 in /usr/local/lib/python3.6/dist-packages (from markdown>=2.6.8->tensorboard>=2.4.1->-r requirements.txt (line 18)) (4.8.2)\n",
      "Requirement already satisfied: wcwidth in /home/tochukwu/.local/lib/python3.6/site-packages (from prompt-toolkit!=3.0.0,!=3.0.1,<3.1.0,>=2.0.0->ipython->-r requirements.txt (line 35)) (0.2.5)\n",
      "Requirement already satisfied: ipython-genutils in /home/tochukwu/.local/lib/python3.6/site-packages (from traitlets>=4.2->ipython->-r requirements.txt (line 35)) (0.2.0)\n",
      "Requirement already satisfied: zipp>=3.1.0 in /usr/local/lib/python3.6/dist-packages (from importlib-resources->tqdm>=4.41.0->-r requirements.txt (line 14)) (3.6.0)\n",
      "Requirement already satisfied: pyasn1<0.5.0,>=0.4.6 in /home/tochukwu/.local/lib/python3.6/site-packages (from pyasn1-modules>=0.2.1->google-auth<3,>=1.6.3->tensorboard>=2.4.1->-r requirements.txt (line 18)) (0.4.8)\n",
      "Requirement already satisfied: oauthlib>=3.0.0 in /home/tochukwu/.local/lib/python3.6/site-packages (from requests-oauthlib>=0.7.0->google-auth-oauthlib<0.5,>=0.4.1->tensorboard>=2.4.1->-r requirements.txt (line 18)) (3.2.0)\n",
      "Note: you may need to restart the kernel to use updated packages.\n"
     ]
    }
   ],
   "source": [
    "pip install -r requirements.txt"
   ]
  },
  {
   "cell_type": "code",
   "execution_count": 3,
   "metadata": {},
   "outputs": [
    {
     "name": "stdout",
     "output_type": "stream",
     "text": [
      "/mnt/mars-beta/tochukwu/maestro/maestro_code/yolov5\n",
      "CONTRIBUTING.md  export.py   \u001b[0m\u001b[01;34mmodels\u001b[0m/            setup.cfg       \u001b[01;34mutils\u001b[0m/\n",
      "\u001b[01;34mdata\u001b[0m/            hubconf.py  README.md          train.py        val.py\n",
      "detect.py        LICENSE     \u001b[01;32mrequirements.txt\u001b[0m*  tutorial.ipynb\n"
     ]
    }
   ],
   "source": [
    "%cd yolov5\n",
    "%ls"
   ]
  },
  {
   "cell_type": "code",
   "execution_count": 6,
   "metadata": {},
   "outputs": [
    {
     "name": "stdout",
     "output_type": "stream",
     "text": [
      "CONTRIBUTING.md  export.py   \u001b[0m\u001b[01;34mmodels\u001b[0m/            setup.cfg       \u001b[01;34mutils\u001b[0m/\n",
      "\u001b[01;34mdata\u001b[0m/            hubconf.py  README.md          train.py        val.py\n",
      "detect.py        LICENSE     \u001b[01;32mrequirements.txt\u001b[0m*  tutorial.ipynb\n"
     ]
    }
   ],
   "source": [
    "%ls"
   ]
  },
  {
   "cell_type": "code",
   "execution_count": 7,
   "metadata": {},
   "outputs": [
    {
     "name": "stdout",
     "output_type": "stream",
     "text": [
      "  File \"train.py\", line 1\n",
      "SyntaxError: Non-ASCII character '\\xf0' in file train.py on line 1, but no encoding declared; see http://python.org/dev/peps/pep-0263/ for details\n"
     ]
    }
   ],
   "source": [
    "\n",
    "# Train YOLOv5s on COCO128 for 3 epochs\n",
    "!python train.py --img 640 --batch 16 --epochs 300 --data custom.yaml --weights yolov5s.pt --cache"
   ]
  }
 ],
 "metadata": {
  "kernelspec": {
   "display_name": "Python 3.6.9 64-bit",
   "language": "python",
   "name": "python3"
  },
  "language_info": {
   "codemirror_mode": {
    "name": "ipython",
    "version": 3
   },
   "file_extension": ".py",
   "mimetype": "text/x-python",
   "name": "python",
   "nbconvert_exporter": "python",
   "pygments_lexer": "ipython3",
   "version": "3.6.9"
  },
  "orig_nbformat": 4,
  "vscode": {
   "interpreter": {
    "hash": "31f2aee4e71d21fbe5cf8b01ff0e069b9275f58929596ceb00d14d90e3e16cd6"
   }
  }
 },
 "nbformat": 4,
 "nbformat_minor": 2
}
